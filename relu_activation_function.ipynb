{
  "nbformat": 4,
  "nbformat_minor": 0,
  "metadata": {
    "colab": {
      "provenance": [],
      "authorship_tag": "ABX9TyNlId3hJQXkUPuUum8x/Ion",
      "include_colab_link": true
    },
    "kernelspec": {
      "name": "python3",
      "display_name": "Python 3"
    },
    "language_info": {
      "name": "python"
    }
  },
  "cells": [
    {
      "cell_type": "markdown",
      "metadata": {
        "id": "view-in-github",
        "colab_type": "text"
      },
      "source": [
        "<a href=\"https://colab.research.google.com/github/shruthireddyrekula/ReLu_activation/blob/main/relu_activation_function.ipynb\" target=\"_parent\"><img src=\"https://colab.research.google.com/assets/colab-badge.svg\" alt=\"Open In Colab\"/></a>"
      ]
    },
    {
      "cell_type": "markdown",
      "source": [
        "**ReLu Activation function** is a better alternative to solve the vanishing gradient problem \n",
        "\n",
        "The ReLu Activation function return 0 if the input is a negative number otherwise return the input as it is \n",
        "\n",
        "Mathematically it is represented as:\n",
        "\n",
        "f(x) = max(0,x) "
      ],
      "metadata": {
        "id": "Wpzszk3nZE9a"
      }
    },
    {
      "cell_type": "code",
      "execution_count": null,
      "metadata": {
        "id": "d3D1cMMAY8Ik"
      },
      "outputs": [],
      "source": [
        "def relu(x):\n",
        "  return max(0.0,x)\n"
      ]
    },
    {
      "cell_type": "markdown",
      "source": [
        "Lets see how it runs on some inputs "
      ],
      "metadata": {
        "id": "hjp66ZymaLay"
      }
    },
    {
      "cell_type": "code",
      "source": [
        "x = 1.0\n",
        "print('Applying ReLu on (%.1f) gives %.1f ' %(x, relu(x)))\n",
        "x = -10.0\n",
        "print('Applying ReLu on (%.1f) gives %.1f ' %(x, relu(x)))\n",
        "x = 0.0\n",
        "print('Applying ReLu on (%.1f) gives %.1f ' %(x, relu(x)))\n",
        "x = 15.0\n",
        "print('Applying ReLu on (%.1f) gives %.1f ' %(x, relu(x)))\n",
        "x = -20.0\n",
        "print('Applying ReLu on (%.1f) gives %.1f ' %(x, relu(x)))"
      ],
      "metadata": {
        "colab": {
          "base_uri": "https://localhost:8080/"
        },
        "id": "a2Iwrm01aP-N",
        "outputId": "d353856a-df5d-449b-b3d1-fed45c5ffdcf"
      },
      "execution_count": null,
      "outputs": [
        {
          "output_type": "stream",
          "name": "stdout",
          "text": [
            "Applying ReLu on (1.0) gives 1.0 \n",
            "Applying ReLu on (-10.0) gives 0.0 \n",
            "Applying ReLu on (0.0) gives 0.0 \n",
            "Applying ReLu on (15.0) gives 15.0 \n",
            "Applying ReLu on (-20.0) gives 0.0 \n"
          ]
        }
      ]
    },
    {
      "cell_type": "markdown",
      "source": [
        "Lets plot a graph for ReLu activation function \n"
      ],
      "metadata": {
        "id": "1nX3aUa9azXs"
      }
    },
    {
      "cell_type": "code",
      "source": [
        "import matplotlib.pyplot as plt\n",
        "import numpy as np\n",
        "p1 = [x for x in range(-10, 11)]\n",
        "p2 = [relu(x) for x in p1]\n",
        "plt.xlabel(\"x\")\n",
        "plt.ylabel(\"relu(x)\")\n",
        "plt.plot(p1,p2)\n",
        "plt.show()\n"
      ],
      "metadata": {
        "colab": {
          "base_uri": "https://localhost:8080/",
          "height": 449
        },
        "id": "wp4gqDh3a6kV",
        "outputId": "9b326c34-e297-41c3-bf55-66685e49de65"
      },
      "execution_count": null,
      "outputs": [
        {
          "output_type": "display_data",
          "data": {
            "text/plain": [
              "<Figure size 640x480 with 1 Axes>"
            ],
            "image/png": "[encoded data removed]"
          },
          "metadata": {}
        }
      ]
    }
  ]
}